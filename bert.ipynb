{
  "cells": [
    {
      "cell_type": "code",
      "execution_count": 1,
      "metadata": {
        "id": "JeBKGYc__YAc"
      },
      "outputs": [],
      "source": [
        "import torch\n",
        "from transformers import BertTokenizer, BertModel"
      ]
    },
    {
      "cell_type": "code",
      "execution_count": 41,
      "metadata": {
        "colab": {
          "base_uri": "https://localhost:8080/"
        },
        "id": "wk5ETivj_rct",
        "outputId": "a00c54a1-3ce2-4a67-b411-9f5affccbe43"
      },
      "outputs": [
        {
          "output_type": "stream",
          "name": "stdout",
          "text": [
            "BertModel(\n",
            "  (embeddings): BertEmbeddings(\n",
            "    (word_embeddings): Embedding(30522, 768, padding_idx=0)\n",
            "    (position_embeddings): Embedding(512, 768)\n",
            "    (token_type_embeddings): Embedding(2, 768)\n",
            "    (LayerNorm): LayerNorm((768,), eps=1e-12, elementwise_affine=True)\n",
            "    (dropout): Dropout(p=0.1, inplace=False)\n",
            "  )\n",
            "  (encoder): BertEncoder(\n",
            "    (layer): ModuleList(\n",
            "      (0-11): 12 x BertLayer(\n",
            "        (attention): BertAttention(\n",
            "          (self): BertSdpaSelfAttention(\n",
            "            (query): Linear(in_features=768, out_features=768, bias=True)\n",
            "            (key): Linear(in_features=768, out_features=768, bias=True)\n",
            "            (value): Linear(in_features=768, out_features=768, bias=True)\n",
            "            (dropout): Dropout(p=0.1, inplace=False)\n",
            "          )\n",
            "          (output): BertSelfOutput(\n",
            "            (dense): Linear(in_features=768, out_features=768, bias=True)\n",
            "            (LayerNorm): LayerNorm((768,), eps=1e-12, elementwise_affine=True)\n",
            "            (dropout): Dropout(p=0.1, inplace=False)\n",
            "          )\n",
            "        )\n",
            "        (intermediate): BertIntermediate(\n",
            "          (dense): Linear(in_features=768, out_features=3072, bias=True)\n",
            "          (intermediate_act_fn): GELUActivation()\n",
            "        )\n",
            "        (output): BertOutput(\n",
            "          (dense): Linear(in_features=3072, out_features=768, bias=True)\n",
            "          (LayerNorm): LayerNorm((768,), eps=1e-12, elementwise_affine=True)\n",
            "          (dropout): Dropout(p=0.1, inplace=False)\n",
            "        )\n",
            "      )\n",
            "    )\n",
            "  )\n",
            "  (pooler): BertPooler(\n",
            "    (dense): Linear(in_features=768, out_features=768, bias=True)\n",
            "    (activation): Tanh()\n",
            "  )\n",
            ")\n",
            "cpu\n"
          ]
        }
      ],
      "source": [
        "tokenizer = BertTokenizer.from_pretrained('bert-base-uncased')\n",
        "model = BertModel.from_pretrained('bert-base-uncased')\n",
        "\n",
        "print(model)\n",
        "print(model.device)"
      ]
    },
    {
      "cell_type": "code",
      "execution_count": 42,
      "metadata": {
        "id": "bwAFh6DbBcAh"
      },
      "outputs": [],
      "source": [
        "if torch.cuda.is_available():\n",
        "  model.to('cuda')"
      ]
    },
    {
      "cell_type": "code",
      "execution_count": 43,
      "metadata": {
        "colab": {
          "base_uri": "https://localhost:8080/"
        },
        "id": "02nNsuzTDU7b",
        "outputId": "568557fd-d8e5-44a1-c62f-4a3c8e6b3c97"
      },
      "outputs": [
        {
          "output_type": "stream",
          "name": "stdout",
          "text": [
            "Requirement already satisfied: datasets in /usr/local/lib/python3.11/dist-packages (3.6.0)\n",
            "Requirement already satisfied: filelock in /usr/local/lib/python3.11/dist-packages (from datasets) (3.18.0)\n",
            "Requirement already satisfied: numpy>=1.17 in /usr/local/lib/python3.11/dist-packages (from datasets) (2.0.2)\n",
            "Requirement already satisfied: pyarrow>=15.0.0 in /usr/local/lib/python3.11/dist-packages (from datasets) (18.1.0)\n",
            "Requirement already satisfied: dill<0.3.9,>=0.3.0 in /usr/local/lib/python3.11/dist-packages (from datasets) (0.3.7)\n",
            "Requirement already satisfied: pandas in /usr/local/lib/python3.11/dist-packages (from datasets) (2.2.2)\n",
            "Requirement already satisfied: requests>=2.32.2 in /usr/local/lib/python3.11/dist-packages (from datasets) (2.32.3)\n",
            "Requirement already satisfied: tqdm>=4.66.3 in /usr/local/lib/python3.11/dist-packages (from datasets) (4.67.1)\n",
            "Requirement already satisfied: xxhash in /usr/local/lib/python3.11/dist-packages (from datasets) (3.5.0)\n",
            "Requirement already satisfied: multiprocess<0.70.17 in /usr/local/lib/python3.11/dist-packages (from datasets) (0.70.15)\n",
            "Requirement already satisfied: fsspec<=2025.3.0,>=2023.1.0 in /usr/local/lib/python3.11/dist-packages (from fsspec[http]<=2025.3.0,>=2023.1.0->datasets) (2025.3.0)\n",
            "Requirement already satisfied: huggingface-hub>=0.24.0 in /usr/local/lib/python3.11/dist-packages (from datasets) (0.33.0)\n",
            "Requirement already satisfied: packaging in /usr/local/lib/python3.11/dist-packages (from datasets) (24.2)\n",
            "Requirement already satisfied: pyyaml>=5.1 in /usr/local/lib/python3.11/dist-packages (from datasets) (6.0.2)\n",
            "Requirement already satisfied: aiohttp!=4.0.0a0,!=4.0.0a1 in /usr/local/lib/python3.11/dist-packages (from fsspec[http]<=2025.3.0,>=2023.1.0->datasets) (3.11.15)\n",
            "Requirement already satisfied: typing-extensions>=3.7.4.3 in /usr/local/lib/python3.11/dist-packages (from huggingface-hub>=0.24.0->datasets) (4.14.0)\n",
            "Requirement already satisfied: hf-xet<2.0.0,>=1.1.2 in /usr/local/lib/python3.11/dist-packages (from huggingface-hub>=0.24.0->datasets) (1.1.5)\n",
            "Requirement already satisfied: charset-normalizer<4,>=2 in /usr/local/lib/python3.11/dist-packages (from requests>=2.32.2->datasets) (3.4.2)\n",
            "Requirement already satisfied: idna<4,>=2.5 in /usr/local/lib/python3.11/dist-packages (from requests>=2.32.2->datasets) (3.10)\n",
            "Requirement already satisfied: urllib3<3,>=1.21.1 in /usr/local/lib/python3.11/dist-packages (from requests>=2.32.2->datasets) (2.4.0)\n",
            "Requirement already satisfied: certifi>=2017.4.17 in /usr/local/lib/python3.11/dist-packages (from requests>=2.32.2->datasets) (2025.6.15)\n",
            "Requirement already satisfied: python-dateutil>=2.8.2 in /usr/local/lib/python3.11/dist-packages (from pandas->datasets) (2.9.0.post0)\n",
            "Requirement already satisfied: pytz>=2020.1 in /usr/local/lib/python3.11/dist-packages (from pandas->datasets) (2025.2)\n",
            "Requirement already satisfied: tzdata>=2022.7 in /usr/local/lib/python3.11/dist-packages (from pandas->datasets) (2025.2)\n",
            "Requirement already satisfied: aiohappyeyeballs>=2.3.0 in /usr/local/lib/python3.11/dist-packages (from aiohttp!=4.0.0a0,!=4.0.0a1->fsspec[http]<=2025.3.0,>=2023.1.0->datasets) (2.6.1)\n",
            "Requirement already satisfied: aiosignal>=1.1.2 in /usr/local/lib/python3.11/dist-packages (from aiohttp!=4.0.0a0,!=4.0.0a1->fsspec[http]<=2025.3.0,>=2023.1.0->datasets) (1.3.2)\n",
            "Requirement already satisfied: attrs>=17.3.0 in /usr/local/lib/python3.11/dist-packages (from aiohttp!=4.0.0a0,!=4.0.0a1->fsspec[http]<=2025.3.0,>=2023.1.0->datasets) (25.3.0)\n",
            "Requirement already satisfied: frozenlist>=1.1.1 in /usr/local/lib/python3.11/dist-packages (from aiohttp!=4.0.0a0,!=4.0.0a1->fsspec[http]<=2025.3.0,>=2023.1.0->datasets) (1.7.0)\n",
            "Requirement already satisfied: multidict<7.0,>=4.5 in /usr/local/lib/python3.11/dist-packages (from aiohttp!=4.0.0a0,!=4.0.0a1->fsspec[http]<=2025.3.0,>=2023.1.0->datasets) (6.4.4)\n",
            "Requirement already satisfied: propcache>=0.2.0 in /usr/local/lib/python3.11/dist-packages (from aiohttp!=4.0.0a0,!=4.0.0a1->fsspec[http]<=2025.3.0,>=2023.1.0->datasets) (0.3.2)\n",
            "Requirement already satisfied: yarl<2.0,>=1.17.0 in /usr/local/lib/python3.11/dist-packages (from aiohttp!=4.0.0a0,!=4.0.0a1->fsspec[http]<=2025.3.0,>=2023.1.0->datasets) (1.20.1)\n",
            "Requirement already satisfied: six>=1.5 in /usr/local/lib/python3.11/dist-packages (from python-dateutil>=2.8.2->pandas->datasets) (1.17.0)\n"
          ]
        }
      ],
      "source": [
        "!pip install --upgrade datasets"
      ]
    },
    {
      "cell_type": "code",
      "execution_count": 44,
      "metadata": {
        "colab": {
          "base_uri": "https://localhost:8080/"
        },
        "id": "I7_Jy58zAIL5",
        "outputId": "2c2ee68d-271e-439d-ec85-b1673c27ffc3"
      },
      "outputs": [
        {
          "output_type": "stream",
          "name": "stdout",
          "text": [
            "Drive already mounted at /content/drive; to attempt to forcibly remount, call drive.mount(\"/content/drive\", force_remount=True).\n",
            "Train Dataset\n",
            "Dataset({\n",
            "    features: ['id', 'keyword', 'location', 'text', 'target'],\n",
            "    num_rows: 7613\n",
            "})\n",
            "------------------------------------------\n",
            "Test Dataset\n",
            "Dataset({\n",
            "    features: ['id', 'keyword', 'location', 'text'],\n",
            "    num_rows: 3263\n",
            "})\n"
          ]
        }
      ],
      "source": [
        "from google.colab import drive\n",
        "drive.mount('/content/drive')\n",
        "\n",
        "# load up the dataset from the Google Drive .csv file\n",
        "from datasets import load_dataset\n",
        "train_dataset = load_dataset('csv', data_files='/content/drive/MyDrive/ai-laboratory/Natural Disaster Tweets/train.csv')['train']\n",
        "test_dataset = load_dataset('csv', data_files='/content/drive/MyDrive/ai-laboratory/Natural Disaster Tweets/test.csv')['train']\n",
        "\n",
        "print(\"Train Dataset\")\n",
        "print(train_dataset)\n",
        "print(\"------------------------------------------\")\n",
        "print(\"Test Dataset\")\n",
        "print(test_dataset)"
      ]
    },
    {
      "cell_type": "code",
      "execution_count": 45,
      "metadata": {
        "colab": {
          "base_uri": "https://localhost:8080/"
        },
        "id": "lADToef1EbVN",
        "outputId": "bc0888c9-1756-44eb-fc83-15f258681207"
      },
      "outputs": [
        {
          "output_type": "stream",
          "name": "stdout",
          "text": [
            "{'input_ids': [[101, 7592, 2045, 102], [101, 9119, 2767, 102]], 'token_type_ids': [[0, 0, 0, 0], [0, 0, 0, 0]], 'attention_mask': [[1, 1, 1, 1], [1, 1, 1, 1]]}\n",
            "[CLS] hello there [SEP]\n",
            "[CLS] goodbye friend [SEP]\n"
          ]
        }
      ],
      "source": [
        "# taking the tokenizer for a spin\n",
        "\n",
        "texts = [\"hello there\", \"goodbye friend\"]\n",
        "encoded_inputs = tokenizer(texts, padding=True)\n",
        "\n",
        "print(encoded_inputs)\n",
        "print(tokenizer.decode(encoded_inputs.input_ids[0]))\n",
        "print(tokenizer.decode(encoded_inputs.input_ids[1]))"
      ]
    },
    {
      "cell_type": "code",
      "execution_count": 46,
      "metadata": {
        "id": "qB23P0NAAL2A"
      },
      "outputs": [],
      "source": [
        "def custom_collate_fn(batch, split='train'):\n",
        "\n",
        "  # get the id's\n",
        "  ids = [item['id'] for item in batch]\n",
        "\n",
        "  # get all the texts\n",
        "  texts = [item['text'] for item in batch]\n",
        "\n",
        "  # tokenize all the texts\n",
        "  inputs = tokenizer(texts, padding=True, return_tensors=\"pt\")\n",
        "\n",
        "  input_ids = inputs.input_ids\n",
        "  attention_mask = inputs.attention_mask\n",
        "\n",
        "  labels = None # initially set labels to None\n",
        "  if split == 'train':\n",
        "    # create the labels tensor\n",
        "    labels = torch.tensor([item['target'] for item in batch])\n",
        "\n",
        "  outputs = {\n",
        "      'ids': ids,\n",
        "      'input_ids': input_ids,\n",
        "      'labels': labels,\n",
        "      'attention_mask': attention_mask\n",
        "  }\n",
        "\n",
        "  return outputs"
      ]
    },
    {
      "cell_type": "code",
      "execution_count": 47,
      "metadata": {
        "colab": {
          "base_uri": "https://localhost:8080/"
        },
        "id": "7cIJIjXOPLnM",
        "outputId": "ad9d0008-3098-4885-dee4-3f9af90d490d"
      },
      "outputs": [
        {
          "output_type": "stream",
          "name": "stdout",
          "text": [
            "{'ids': [6153, 4361, 3675, 6990, 875, 4281, 8069, 322, 9559, 3512, 7749, 8647, 6815, 8702, 4093, 1675], 'input_ids': tensor([[  101,  1030, 19545,  9739,  6633,  2015,  1030, 12731, 20338, 22747,\n",
            "          2953,  6460,  2078,  2054,  2065,  2002,  7549,  2014,  2114,  1996,\n",
            "          2813,  2005,  1996,  3308,  3114,  2021,  2059,  2002,  2234,  2041,\n",
            "          1997,  7632, 17364,  5549,  1998,  2009,   102,     0,     0,     0,\n",
            "             0,     0,     0,     0,     0,     0,     0,     0,     0,     0,\n",
            "             0,     0,     0,     0,     0],\n",
            "        [  101,  7148,  8873,  1035, 22110,  1024, 19387, 15770,  8162, 14644,\n",
            "          2705,  1024,  5858,  4490,  2000,  5787,  8372,  3891,  2012,  3514,\n",
            "          1998,  3806,  7051,  1064, 23348,  4183,  8299,  1024,  1013,  1013,\n",
            "          1056,  1012,  2522,  1013,  1061,  6820,  2549, 16275, 14945, 12881,\n",
            "          8295,  2035, 16215, 17922,  1035,   102,     0,     0,     0,     0,\n",
            "             0,     0,     0,     0,     0],\n",
            "        [  101,  2131,  1037,  2753,  7327,  2099,  2489,  6655,  2012,  1038,\n",
            "         10105,  2000,  2224,  2006,  2035,  2998,  6089,  1001,  6033,  1001,\n",
            "          2489,  8299,  1024,  1013,  1013,  1056,  1012,  2522,  1013,  9033,\n",
            "         19658,  2290,  2692, 22540,  8093,  8299,  1024,  1013,  1013,  1056,\n",
            "          1012,  2522,  1013,  1046, 12031,  2546, 26494, 19422,  6826,   102,\n",
            "             0,     0,     0,     0,     0],\n",
            "        [  101,  1030, 12578,  2078, 29601,  2015,  2009,  1005,  1055,  1037,\n",
            "          2092,  1011,  2124,  2755,  2008,  1996,  2358, 10113,  1005,  1055,\n",
            "          2154,  9288,  2071,  2031,  2042,  9511,  2007,  2070,  1005,  1051,\n",
            "         25377,  4430,  1011,  2558,  1005,  3419, 18074,  1012,   102,     0,\n",
            "             0,     0,     0,     0,     0,     0,     0,     0,     0,     0,\n",
            "             0,     0,     0,     0,     0],\n",
            "        [  101,  7349, 10288,  2053,  2936,  2000,  3665, 16012,  3334, 29165,\n",
            "         16216, 10867,  2015,  1999,  5256,  1997, 14405, 13492,  2595,  6845,\n",
            "         28616,  3270,  4523,  8299,  1024,  1013,  1013,  1056,  1012,  2522,\n",
            "          1013, 17850,  4160,  2278,  3501,  3527,  2615,  3501,  2480,   102,\n",
            "             0,     0,     0,     0,     0,     0,     0,     0,     0,     0,\n",
            "             0,     0,     0,     0,     0],\n",
            "        [  101,  1996, 14759,  2611,  2011, 27555,  1054,  1012, 11382, 11795,\n",
            "          2319,  9358, 15457,  3207,  2811,  2772,  8597,  3132,  1011,  2440,\n",
            "          2128,  2226,  1035,  8299,  1024,  1013,  1013,  1056,  1012,  2522,\n",
            "          1013, 11338,  3366,  2243,  2549,  2232,  2595,  2629,  2015,  8299,\n",
            "          1024,  1013,  1013,  1056,  1012,  2522,  1013,  2462,  2546,  3654,\n",
            "          2480,  2692,  8873,  2140,   102],\n",
            "        [  101, 10514, 21314,  1004, 23713,  1025, 13801,  2000,  1996,  5343,\n",
            "           999,  1001,  8827, 17994, 15603,  4017,  2818,   102,     0,     0,\n",
            "             0,     0,     0,     0,     0,     0,     0,     0,     0,     0,\n",
            "             0,     0,     0,     0,     0,     0,     0,     0,     0,     0,\n",
            "             0,     0,     0,     0,     0,     0,     0,     0,     0,     0,\n",
            "             0,     0,     0,     0,     0],\n",
            "        [  101,  2076,  1996,  4120,  1996,  2030, 17275,  1037,  6454,  1997,\n",
            "          1996, 13771,  6000,  2020,  5754, 19190, 11733,  3064,  2011,  9624,\n",
            "          1012,  8299,  1024,  1013,  1013,  1056,  1012,  2522,  1013,  8675,\n",
            "          2063,  4160,  8569,  4160,  2860,  8299,  1024,  1013,  1013,  1056,\n",
            "          1012,  2522,  1013,  1046,  4160,  2475, 11106,  2629,  2243, 23296,\n",
            "          2102,   102,     0,     0,     0],\n",
            "        [  101,  5665, 26658,  4360, 24582, 29133,  2085, 13068,  2075,  4638,\n",
            "          2041,  8299,  1024,  1013,  1013,  1056,  1012,  2522,  1013,  1041,\n",
            "          2475, 27767,  2890,  2594,  2213,  2480,   102,     0,     0,     0,\n",
            "             0,     0,     0,     0,     0,     0,     0,     0,     0,     0,\n",
            "             0,     0,     0,     0,     0,     0,     0,     0,     0,     0,\n",
            "             0,     0,     0,     0,     0],\n",
            "        [  101,  1001, 16913, 27605, 26942,  2854, 20841,  7970,  3345,  4315,\n",
            "         12502,  3672,  1024,  2352,  3360,  5552,  2116,  3268,  8299,  1024,\n",
            "          1013,  1013,  1056,  1012,  2522,  1013,  1061,  2615,  8737, 14945,\n",
            "          2692,  2480,  2683,  2595,   102,     0,     0,     0,     0,     0,\n",
            "             0,     0,     0,     0,     0,     0,     0,     0,     0,     0,\n",
            "             0,     0,     0,     0,     0],\n",
            "        [  101,  2122,  8239,  2610,  2064,  1005,  1056,  3543,  2033,  2122,\n",
            "          6616,  9152, 23033,  2015,  7110,  1005,  1056,  8239,  1059,  2033,\n",
            "           102,     0,     0,     0,     0,     0,     0,     0,     0,     0,\n",
            "             0,     0,     0,     0,     0,     0,     0,     0,     0,     0,\n",
            "             0,     0,     0,     0,     0,     0,     0,     0,     0,     0,\n",
            "             0,     0,     0,     0,     0],\n",
            "        [  101,  2312,  7752, 11484, 26436,  2972,  8644,  1999,  2659, 13629,\n",
            "          2015,  2221,  4108,  1024,  2312,  7752, 11484,  2226,  1035,  8299,\n",
            "          1024,  1013,  1013,  1056,  1012,  2522,  1013,  4647,  6392,  4160,\n",
            "         20058, 25619,  1001,  6686,  2475,  2497,   102,     0,     0,     0,\n",
            "             0,     0,     0,     0,     0,     0,     0,     0,     0,     0,\n",
            "             0,     0,     0,     0,     0],\n",
            "        [  101,  1001, 17151, 18155,  2064,  2017,  2156,  1996, 14062,  2090,\n",
            "         14455,  1004, 23713,  1025,  6063,  2119,  2024,  5189,  1998,  2234,\n",
            "          1999,  2007,  1037,  2502,  9748,   999,   999,  2041,  1996,  2168,\n",
            "          2126,  1025, 11082,  2156,   999,   102,     0,     0,     0,     0,\n",
            "             0,     0,     0,     0,     0,     0,     0,     0,     0,     0,\n",
            "             0,     0,     0,     0,     0],\n",
            "        [  101,  2008,  9202, 10186,  3110,  2043,  2017,  2226, 29653,  3726,\n",
            "          2042,  2012,  2188,  2006,  2115,  3042,  2005,  1037,  2096,  1998,\n",
            "          2017, 19148,  2049,  2042,  2006,  1017,  2290,  2023,  2878,  2051,\n",
            "           102,     0,     0,     0,     0,     0,     0,     0,     0,     0,\n",
            "             0,     0,     0,     0,     0,     0,     0,     0,     0,     0,\n",
            "             0,     0,     0,     0,     0],\n",
            "        [  101,  2071,  4908,  1005,  1055,  2980,  2531,  3673,  2022, 12936,\n",
            "          2011,  2122,  2591,  1011,  2865,  1011,  5533,  2189,  6093,  1029,\n",
            "          8299,  1024,  1013,  1013,  1056,  1012,  2522,  1013,  1059,  2615,\n",
            "         14431,  2620,  3501,  2099,  2595,  2063,   102,     0,     0,     0,\n",
            "             0,     0,     0,     0,     0,     0,     0,     0,     0,     0,\n",
            "             0,     0,     0,     0,     0],\n",
            "        [  101, 16615,  2103,  2543,  4584,  2903,  2958,  7859,  2599,  2000,\n",
            "         11297,  4744,  4897,  2058,  1011, 16615,  3122,  5609,  1024, 16615,\n",
            "          5802,  1012,  1012,  1012,  8299,  1024,  1013,  1013,  1056,  1012,\n",
            "          2522,  1013,  1055,  2480,  2102, 21693,  2497,  3683, 25619,   102,\n",
            "             0,     0,     0,     0,     0,     0,     0,     0,     0,     0,\n",
            "             0,     0,     0,     0,     0]]), 'labels': tensor([0, 1, 0, 1, 0, 0, 0, 1, 0, 1, 0, 1, 0, 0, 1, 1]), 'attention_mask': tensor([[1, 1, 1, 1, 1, 1, 1, 1, 1, 1, 1, 1, 1, 1, 1, 1, 1, 1, 1, 1, 1, 1, 1, 1,\n",
            "         1, 1, 1, 1, 1, 1, 1, 1, 1, 1, 1, 1, 1, 0, 0, 0, 0, 0, 0, 0, 0, 0, 0, 0,\n",
            "         0, 0, 0, 0, 0, 0, 0],\n",
            "        [1, 1, 1, 1, 1, 1, 1, 1, 1, 1, 1, 1, 1, 1, 1, 1, 1, 1, 1, 1, 1, 1, 1, 1,\n",
            "         1, 1, 1, 1, 1, 1, 1, 1, 1, 1, 1, 1, 1, 1, 1, 1, 1, 1, 1, 1, 1, 1, 0, 0,\n",
            "         0, 0, 0, 0, 0, 0, 0],\n",
            "        [1, 1, 1, 1, 1, 1, 1, 1, 1, 1, 1, 1, 1, 1, 1, 1, 1, 1, 1, 1, 1, 1, 1, 1,\n",
            "         1, 1, 1, 1, 1, 1, 1, 1, 1, 1, 1, 1, 1, 1, 1, 1, 1, 1, 1, 1, 1, 1, 1, 1,\n",
            "         1, 1, 0, 0, 0, 0, 0],\n",
            "        [1, 1, 1, 1, 1, 1, 1, 1, 1, 1, 1, 1, 1, 1, 1, 1, 1, 1, 1, 1, 1, 1, 1, 1,\n",
            "         1, 1, 1, 1, 1, 1, 1, 1, 1, 1, 1, 1, 1, 1, 1, 0, 0, 0, 0, 0, 0, 0, 0, 0,\n",
            "         0, 0, 0, 0, 0, 0, 0],\n",
            "        [1, 1, 1, 1, 1, 1, 1, 1, 1, 1, 1, 1, 1, 1, 1, 1, 1, 1, 1, 1, 1, 1, 1, 1,\n",
            "         1, 1, 1, 1, 1, 1, 1, 1, 1, 1, 1, 1, 1, 1, 1, 1, 0, 0, 0, 0, 0, 0, 0, 0,\n",
            "         0, 0, 0, 0, 0, 0, 0],\n",
            "        [1, 1, 1, 1, 1, 1, 1, 1, 1, 1, 1, 1, 1, 1, 1, 1, 1, 1, 1, 1, 1, 1, 1, 1,\n",
            "         1, 1, 1, 1, 1, 1, 1, 1, 1, 1, 1, 1, 1, 1, 1, 1, 1, 1, 1, 1, 1, 1, 1, 1,\n",
            "         1, 1, 1, 1, 1, 1, 1],\n",
            "        [1, 1, 1, 1, 1, 1, 1, 1, 1, 1, 1, 1, 1, 1, 1, 1, 1, 1, 0, 0, 0, 0, 0, 0,\n",
            "         0, 0, 0, 0, 0, 0, 0, 0, 0, 0, 0, 0, 0, 0, 0, 0, 0, 0, 0, 0, 0, 0, 0, 0,\n",
            "         0, 0, 0, 0, 0, 0, 0],\n",
            "        [1, 1, 1, 1, 1, 1, 1, 1, 1, 1, 1, 1, 1, 1, 1, 1, 1, 1, 1, 1, 1, 1, 1, 1,\n",
            "         1, 1, 1, 1, 1, 1, 1, 1, 1, 1, 1, 1, 1, 1, 1, 1, 1, 1, 1, 1, 1, 1, 1, 1,\n",
            "         1, 1, 1, 1, 0, 0, 0],\n",
            "        [1, 1, 1, 1, 1, 1, 1, 1, 1, 1, 1, 1, 1, 1, 1, 1, 1, 1, 1, 1, 1, 1, 1, 1,\n",
            "         1, 1, 1, 0, 0, 0, 0, 0, 0, 0, 0, 0, 0, 0, 0, 0, 0, 0, 0, 0, 0, 0, 0, 0,\n",
            "         0, 0, 0, 0, 0, 0, 0],\n",
            "        [1, 1, 1, 1, 1, 1, 1, 1, 1, 1, 1, 1, 1, 1, 1, 1, 1, 1, 1, 1, 1, 1, 1, 1,\n",
            "         1, 1, 1, 1, 1, 1, 1, 1, 1, 1, 1, 0, 0, 0, 0, 0, 0, 0, 0, 0, 0, 0, 0, 0,\n",
            "         0, 0, 0, 0, 0, 0, 0],\n",
            "        [1, 1, 1, 1, 1, 1, 1, 1, 1, 1, 1, 1, 1, 1, 1, 1, 1, 1, 1, 1, 1, 0, 0, 0,\n",
            "         0, 0, 0, 0, 0, 0, 0, 0, 0, 0, 0, 0, 0, 0, 0, 0, 0, 0, 0, 0, 0, 0, 0, 0,\n",
            "         0, 0, 0, 0, 0, 0, 0],\n",
            "        [1, 1, 1, 1, 1, 1, 1, 1, 1, 1, 1, 1, 1, 1, 1, 1, 1, 1, 1, 1, 1, 1, 1, 1,\n",
            "         1, 1, 1, 1, 1, 1, 1, 1, 1, 1, 1, 1, 1, 0, 0, 0, 0, 0, 0, 0, 0, 0, 0, 0,\n",
            "         0, 0, 0, 0, 0, 0, 0],\n",
            "        [1, 1, 1, 1, 1, 1, 1, 1, 1, 1, 1, 1, 1, 1, 1, 1, 1, 1, 1, 1, 1, 1, 1, 1,\n",
            "         1, 1, 1, 1, 1, 1, 1, 1, 1, 1, 1, 1, 0, 0, 0, 0, 0, 0, 0, 0, 0, 0, 0, 0,\n",
            "         0, 0, 0, 0, 0, 0, 0],\n",
            "        [1, 1, 1, 1, 1, 1, 1, 1, 1, 1, 1, 1, 1, 1, 1, 1, 1, 1, 1, 1, 1, 1, 1, 1,\n",
            "         1, 1, 1, 1, 1, 1, 1, 0, 0, 0, 0, 0, 0, 0, 0, 0, 0, 0, 0, 0, 0, 0, 0, 0,\n",
            "         0, 0, 0, 0, 0, 0, 0],\n",
            "        [1, 1, 1, 1, 1, 1, 1, 1, 1, 1, 1, 1, 1, 1, 1, 1, 1, 1, 1, 1, 1, 1, 1, 1,\n",
            "         1, 1, 1, 1, 1, 1, 1, 1, 1, 1, 1, 1, 1, 0, 0, 0, 0, 0, 0, 0, 0, 0, 0, 0,\n",
            "         0, 0, 0, 0, 0, 0, 0],\n",
            "        [1, 1, 1, 1, 1, 1, 1, 1, 1, 1, 1, 1, 1, 1, 1, 1, 1, 1, 1, 1, 1, 1, 1, 1,\n",
            "         1, 1, 1, 1, 1, 1, 1, 1, 1, 1, 1, 1, 1, 1, 1, 1, 0, 0, 0, 0, 0, 0, 0, 0,\n",
            "         0, 0, 0, 0, 0, 0, 0]])}\n"
          ]
        }
      ],
      "source": [
        "from torch.utils.data import DataLoader\n",
        "from functools import partial\n",
        "batch_size = 32\n",
        "\n",
        "# create a data loader for the training dataset\n",
        "train_loader = DataLoader(train_dataset, batch_size=16, collate_fn = partial(custom_collate_fn, split='train'), shuffle=True)\n",
        "for output_set in train_loader:\n",
        "  print(output_set)\n",
        "  break"
      ]
    },
    {
      "cell_type": "code",
      "execution_count": 48,
      "metadata": {
        "colab": {
          "base_uri": "https://localhost:8080/"
        },
        "id": "XaaPSsdLTasD",
        "outputId": "d4d1b4da-b261-408f-ede0-aa930fa711b3"
      },
      "outputs": [
        {
          "output_type": "stream",
          "name": "stdout",
          "text": [
            "torch.Size([1, 4, 768])\n",
            "torch.Size([1, 768])\n"
          ]
        }
      ],
      "source": [
        "outputs = model(torch.tensor([[101, 7592, 2045, 102]]).to('cuda'))\n",
        "print(outputs.last_hidden_state.shape)\n",
        "print(outputs.pooler_output.shape)"
      ]
    },
    {
      "cell_type": "code",
      "execution_count": 49,
      "metadata": {
        "id": "53BQ-rN5RcCN"
      },
      "outputs": [],
      "source": [
        "import torch.nn as nn\n",
        "import torch.nn.functional as F\n",
        "import torch.optim as optim\n",
        "\n",
        "class BertClassifier(nn.Module):\n",
        "\n",
        "  def __init__(self, base_model):\n",
        "    super().__init__()\n",
        "    self.base_model = base_model\n",
        "    self.classification_head = nn.Linear(768, 2)\n",
        "\n",
        "\n",
        "  def forward(self, input_ids, attention_mask, targets=None):\n",
        "    # input_ids: (B, C), where C is context length\n",
        "\n",
        "    last_hidden_states = self.base_model(input_ids, attention_mask=attention_mask)[\"last_hidden_state\"] # (B, C, D)\n",
        "    cls_hidden_states = last_hidden_states[:, 0, :] # (B, D)\n",
        "\n",
        "    output_logits = self.classification_head(cls_hidden_states) # (B,D) --> (B,2)\n",
        "\n",
        "    loss = None\n",
        "    if targets is not None:\n",
        "      loss = F.cross_entropy(output_logits, target=targets)\n",
        "\n",
        "    return output_logits, loss\n",
        "\n"
      ]
    },
    {
      "cell_type": "code",
      "execution_count": 50,
      "metadata": {
        "colab": {
          "base_uri": "https://localhost:8080/"
        },
        "id": "4gtRbRc4XISb",
        "outputId": "d114765d-68ae-417e-d72f-feba530eee81"
      },
      "outputs": [
        {
          "output_type": "stream",
          "name": "stdout",
          "text": [
            "Iter: 0, Loss: 0.7657039165496826, Accuracy: 0.375\n",
            "Iter: 100, Loss: 0.3155602216720581, Accuracy: 0.875\n",
            "Iter: 200, Loss: 0.4992414712905884, Accuracy: 0.6875\n",
            "Iter: 300, Loss: 0.4554291069507599, Accuracy: 0.875\n",
            "Iter: 400, Loss: 0.15263810753822327, Accuracy: 1.0\n"
          ]
        }
      ],
      "source": [
        "# training loop\n",
        "num_epochs = 1\n",
        "learning_rate = 3e-5\n",
        "num_steps = 0\n",
        "eval_every = 100\n",
        "\n",
        "\n",
        "bert_classifier = BertClassifier(base_model = model)\n",
        "bert_classifier.to('cuda')\n",
        "bert_classifier.train() # put the model in training mode\n",
        "\n",
        "optimizer = optim.Adam(bert_classifier.parameters(), lr=learning_rate)\n",
        "\n",
        "training_loss_log = []\n",
        "steps_log = []\n",
        "\n",
        "for epoch_idx in range(num_epochs):\n",
        "  for batch_data in train_loader:\n",
        "\n",
        "    ids = batch_data['ids']\n",
        "    input_ids = batch_data['input_ids'].to('cuda')\n",
        "    labels = batch_data['labels'].to('cuda')\n",
        "    attention_mask = batch_data['attention_mask'].to('cuda')\n",
        "\n",
        "    output_logits, loss = bert_classifier(input_ids, attention_mask, targets=labels)\n",
        "\n",
        "\n",
        "    # log the training progress here\n",
        "    if num_steps % eval_every == 0:\n",
        "      # calculate the number of correct samples\n",
        "      _, predictions = output_logits.max(dim=1)\n",
        "      num_correct = (predictions == labels).sum().item()\n",
        "      total = predictions.size(0)\n",
        "\n",
        "      print(f\"Iter: {num_steps}, Loss: {loss.item()}, Accuracy: {num_correct/total}\")\n",
        "\n",
        "    optimizer.zero_grad()\n",
        "    loss.backward()\n",
        "    optimizer.step()\n",
        "\n",
        "    training_loss_log.append(loss.item())\n",
        "    steps_log.append(num_steps)\n",
        "\n",
        "\n",
        "    num_steps += 1"
      ]
    },
    {
      "cell_type": "code",
      "source": [
        "import matplotlib.pyplot as plt\n",
        "\n",
        "plt.plot(steps_log, training_loss_log)"
      ],
      "metadata": {
        "colab": {
          "base_uri": "https://localhost:8080/",
          "height": 447
        },
        "id": "2d4xXOnQDACA",
        "outputId": "90ca2ea1-4837-473c-fa4a-cc19c8c77e74"
      },
      "execution_count": 51,
      "outputs": [
        {
          "output_type": "execute_result",
          "data": {
            "text/plain": [
              "[<matplotlib.lines.Line2D at 0x7d829453d750>]"
            ]
          },
          "metadata": {},
          "execution_count": 51
        },
        {
          "output_type": "display_data",
          "data": {
            "text/plain": [
              "<Figure size 640x480 with 1 Axes>"
            ],
            "image/png": "[encoded data removed]"
          },
          "metadata": {}
        }
      ]
    },
    {
      "cell_type": "code",
      "execution_count": 55,
      "metadata": {
        "id": "bCPcHsjcAPLQ"
      },
      "outputs": [],
      "source": [
        "# evaluate on the test data\n",
        "test_loader = DataLoader(test_dataset, collate_fn = partial(custom_collate_fn, split=\"test\"), shuffle=False)\n",
        "bert_classifier.eval() # put the model in eval mode\n",
        "\n",
        "predicted_ids = []\n",
        "predictions = []\n",
        "num_samples = 0\n",
        "\n",
        "for batch_data in test_loader:\n",
        "    ids = batch_data['ids']\n",
        "    input_ids = batch_data['input_ids'].to('cuda')\n",
        "    attention_masks = batch_data['attention_mask'].to('cuda')\n",
        "\n",
        "    output_logits, _ = bert_classifier(input_ids, attention_masks)\n",
        "    _, preds = output_logits.max(dim=1)\n",
        "\n",
        "    prediction_list = preds.tolist()\n",
        "\n",
        "    predicted_ids.extend(ids)\n",
        "    predictions.extend(prediction_list)\n"
      ]
    },
    {
      "cell_type": "code",
      "source": [
        "import pandas as pd\n",
        "\n",
        "\n",
        "submission_data = {\n",
        "    'id': predicted_ids,\n",
        "    'target': predictions\n",
        "}\n",
        "\n",
        "\n",
        "submission_df = pd.DataFrame(submission_data)\n",
        "\n",
        "\n",
        "print(\"Submission DataFrame head:\")\n",
        "print(submission_df.head())\n",
        "\n",
        "\n",
        "submission_df.to_csv('submission.csv', index=False)\n",
        "\n",
        "print(\"\\nSuccessfully created submission.csv\")"
      ],
      "metadata": {
        "colab": {
          "base_uri": "https://localhost:8080/"
        },
        "id": "KQhVrt8BHx-v",
        "outputId": "fea66240-0890-4d24-962e-0c0ecd93e451"
      },
      "execution_count": 56,
      "outputs": [
        {
          "output_type": "stream",
          "name": "stdout",
          "text": [
            "Submission DataFrame head:\n",
            "   id  target\n",
            "0   0       1\n",
            "1   2       1\n",
            "2   3       1\n",
            "3   9       1\n",
            "4  11       1\n",
            "\n",
            "Successfully created submission.csv\n"
          ]
        }
      ]
    },
    {
      "cell_type": "code",
      "source": [],
      "metadata": {
        "id": "zRvVyjBxIkWX"
      },
      "execution_count": null,
      "outputs": []
    }
  ],
  "metadata": {
    "accelerator": "GPU",
    "colab": {
      "gpuType": "T4",
      "provenance": []
    },
    "kernelspec": {
      "display_name": "Python 3",
      "name": "python3"
    },
    "language_info": {
      "name": "python"
    }
  },
  "nbformat": 4,
  "nbformat_minor": 0
}